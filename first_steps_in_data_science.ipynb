{
 "cells": [
  {
   "cell_type": "markdown",
   "metadata": {},
   "source": [
    " First steps in data science with Python "
   ]
  },
  {
   "cell_type": "markdown",
   "metadata": {},
   "source": [
    "# Installation"
   ]
  },
  {
   "cell_type": "markdown",
   "metadata": {
    "ExecuteTime": {
     "end_time": "2017-05-06T12:29:52.737704Z",
     "start_time": "2017-05-06T14:29:52.732968+02:00"
    }
   },
   "source": [
    "For new comers, I recommend using the Anacaonda distribution. You can download it from [here](https://www.continuum.io/downloads).\n",
    "\n",
    "If you are familiar with Python, create a `conda` environment and install the need libraries (using the `environment.yml` file): \n",
    "\n",
    "`conda env create -f environment.yml`\n",
    "\n",
    "Then, activate the environement using: \n",
    "\n",
    "`conda activate workshop`"
   ]
  },
  {
   "cell_type": "markdown",
   "metadata": {
    "ExecuteTime": {
     "end_time": "2017-05-06T07:36:35.021214Z",
     "start_time": "2017-05-06T09:36:35.017194+02:00"
    }
   },
   "source": [
    "# The Python data science ecosystem"
   ]
  },
  {
   "cell_type": "markdown",
   "metadata": {},
   "source": [
    "## Jupyter notebook"
   ]
  },
  {
   "cell_type": "markdown",
   "metadata": {},
   "source": [
    "[Jupyter](https://jupyter.org/) notebook is the code environment we will be using today. <br>\n",
    "Previously known as ipython notebook, it is an interactive environment that makes prototyping easier for data scientists."
   ]
  },
  {
   "cell_type": "markdown",
   "metadata": {},
   "source": [
    "## Pandas"
   ]
  },
  {
   "cell_type": "markdown",
   "metadata": {
    "ExecuteTime": {
     "end_time": "2017-05-06T09:14:15.983773Z",
     "start_time": "2017-05-06T11:14:15.903851+02:00"
    }
   },
   "source": [
    "[Pandas](http://pandas.pydata.org/) is the primary toolbox used for collecting and cleaning datasets from various data sources. <br>\n",
    "Most of the concepts that we are exploring today can be found in the following great [cheatsheet](https://github.com/pandas-dev/pandas/blob/master/doc/cheatsheet/Pandas_Cheat_Sheet.pdf)"
   ]
  },
  {
   "cell_type": "markdown",
   "metadata": {},
   "source": [
    "## Matplotlib"
   ]
  },
  {
   "cell_type": "markdown",
   "metadata": {},
   "source": [
    "[Matplotlib](http://matplotlib.org/) is the standard and de facto Python library for creating visualizations."
   ]
  },
  {
   "cell_type": "markdown",
   "metadata": {},
   "source": [
    "## Numerical and statistical (numpy, scipy, statsmodels)"
   ]
  },
  {
   "cell_type": "markdown",
   "metadata": {},
   "source": [
    "Alongside the above tools, Python offers a set of numerical and statistical packages to perform data analysis. \n",
    "The most famous ones are: \n",
    "\n",
    "* [numpy](http://www.numpy.org/): Base N-dimensional array package\n",
    "* [scipy](https://www.scipy.org/scipylib/index.html): Fundamental library for scientific computing\n",
    "* [statsmodels](http://www.statsmodels.org/stable/): Statistical computations and models for Python"
   ]
  },
  {
   "cell_type": "markdown",
   "metadata": {},
   "source": [
    "Keep in mind that most of the capabilites of the above package are integrated within the Pandas library."
   ]
  },
  {
   "cell_type": "markdown",
   "metadata": {},
   "source": [
    "# Tidy data"
   ]
  },
  {
   "cell_type": "markdown",
   "metadata": {},
   "source": [
    "This is a very important concept when doing data science. To demonstrate how important it is, let's start by creating a messy one and tidying it."
   ]
  },
  {
   "cell_type": "code",
   "execution_count": 76,
   "metadata": {
    "ExecuteTime": {
     "end_time": "2017-05-06T15:32:59.850869Z",
     "start_time": "2017-05-06T17:32:59.845583+02:00"
    }
   },
   "outputs": [],
   "source": [
    "import pandas as pd\n",
    "messy_df = pd.DataFrame({'2016': [1000, 2000, 3000], \n",
    "                         '2017': [1200, 1300, 4000], \n",
    "                         'company': \n",
    "                         ['slack', 'twitter', 'twitch']\n",
    "                        })"
   ]
  },
  {
   "cell_type": "markdown",
   "metadata": {},
   "source": [
    "Here, we have created a fictional dataset that contains earnings for years 2016 and 2017"
   ]
  },
  {
   "cell_type": "code",
   "execution_count": 10,
   "metadata": {
    "ExecuteTime": {
     "end_time": "2017-05-06T13:58:29.881204Z",
     "start_time": "2017-05-06T15:58:29.864488+02:00"
    }
   },
   "outputs": [
    {
     "data": {
      "text/html": [
       "<div>\n",
       "<table border=\"1\" class=\"dataframe\">\n",
       "  <thead>\n",
       "    <tr style=\"text-align: right;\">\n",
       "      <th></th>\n",
       "      <th>2016</th>\n",
       "      <th>2017</th>\n",
       "      <th>company</th>\n",
       "    </tr>\n",
       "  </thead>\n",
       "  <tbody>\n",
       "    <tr>\n",
       "      <th>0</th>\n",
       "      <td>1000</td>\n",
       "      <td>1200</td>\n",
       "      <td>slack</td>\n",
       "    </tr>\n",
       "    <tr>\n",
       "      <th>1</th>\n",
       "      <td>2000</td>\n",
       "      <td>1300</td>\n",
       "      <td>twitter</td>\n",
       "    </tr>\n",
       "    <tr>\n",
       "      <th>2</th>\n",
       "      <td>3000</td>\n",
       "      <td>4000</td>\n",
       "      <td>twitch</td>\n",
       "    </tr>\n",
       "  </tbody>\n",
       "</table>\n",
       "</div>"
      ],
      "text/plain": [
       "   2016  2017  company\n",
       "0  1000  1200    slack\n",
       "1  2000  1300  twitter\n",
       "2  3000  4000   twitch"
      ]
     },
     "execution_count": 10,
     "metadata": {},
     "output_type": "execute_result"
    }
   ],
   "source": [
    "messy_df"
   ]
  },
  {
   "cell_type": "markdown",
   "metadata": {
    "ExecuteTime": {
     "end_time": "2017-05-06T14:01:46.846850Z",
     "start_time": "2017-05-06T16:01:46.842036+02:00"
    }
   },
   "source": [
    "You might ask, what is the problem with this dataset? <br>\n",
    "There are two main ones:\n",
    "\n",
    "* The coloumns 2016 and 2017 contain the same type of variable (earnings)\n",
    "* The columns 2016 and 2017 contain an information about the year "
   ]
  },
  {
   "cell_type": "markdown",
   "metadata": {},
   "source": [
    "Now that we have a \"messy\" dataset, let's clean it."
   ]
  },
  {
   "cell_type": "code",
   "execution_count": 81,
   "metadata": {
    "ExecuteTime": {
     "end_time": "2017-05-06T15:43:13.515468Z",
     "start_time": "2017-05-06T17:43:13.509290+02:00"
    }
   },
   "outputs": [],
   "source": [
    "tidy_df = pd.melt(messy_df, id_vars=['company'],\n",
    "                  value_name='earnings', \n",
    "                  var_name='year')"
   ]
  },
  {
   "cell_type": "code",
   "execution_count": 82,
   "metadata": {
    "ExecuteTime": {
     "end_time": "2017-05-06T15:43:18.159810Z",
     "start_time": "2017-05-06T17:43:18.147406+02:00"
    }
   },
   "outputs": [
    {
     "data": {
      "text/html": [
       "<div>\n",
       "<table border=\"1\" class=\"dataframe\">\n",
       "  <thead>\n",
       "    <tr style=\"text-align: right;\">\n",
       "      <th></th>\n",
       "      <th>company</th>\n",
       "      <th>year</th>\n",
       "      <th>earnings</th>\n",
       "    </tr>\n",
       "  </thead>\n",
       "  <tbody>\n",
       "    <tr>\n",
       "      <th>0</th>\n",
       "      <td>slack</td>\n",
       "      <td>2016</td>\n",
       "      <td>1000</td>\n",
       "    </tr>\n",
       "    <tr>\n",
       "      <th>1</th>\n",
       "      <td>twitter</td>\n",
       "      <td>2016</td>\n",
       "      <td>2000</td>\n",
       "    </tr>\n",
       "    <tr>\n",
       "      <th>2</th>\n",
       "      <td>twitch</td>\n",
       "      <td>2016</td>\n",
       "      <td>3000</td>\n",
       "    </tr>\n",
       "    <tr>\n",
       "      <th>3</th>\n",
       "      <td>slack</td>\n",
       "      <td>2017</td>\n",
       "      <td>1200</td>\n",
       "    </tr>\n",
       "    <tr>\n",
       "      <th>4</th>\n",
       "      <td>twitter</td>\n",
       "      <td>2017</td>\n",
       "      <td>1300</td>\n",
       "    </tr>\n",
       "    <tr>\n",
       "      <th>5</th>\n",
       "      <td>twitch</td>\n",
       "      <td>2017</td>\n",
       "      <td>4000</td>\n",
       "    </tr>\n",
       "  </tbody>\n",
       "</table>\n",
       "</div>"
      ],
      "text/plain": [
       "   company  year  earnings\n",
       "0    slack  2016      1000\n",
       "1  twitter  2016      2000\n",
       "2   twitch  2016      3000\n",
       "3    slack  2017      1200\n",
       "4  twitter  2017      1300\n",
       "5   twitch  2017      4000"
      ]
     },
     "execution_count": 82,
     "metadata": {},
     "output_type": "execute_result"
    }
   ],
   "source": [
    "tidy_df"
   ]
  },
  {
   "cell_type": "markdown",
   "metadata": {
    "ExecuteTime": {
     "end_time": "2017-05-06T14:23:01.716071Z",
     "start_time": "2017-05-06T16:23:01.709016+02:00"
    }
   },
   "source": [
    "That's much better! <br>"
   ]
  },
  {
   "cell_type": "markdown",
   "metadata": {
    "ExecuteTime": {
     "end_time": "2017-05-06T14:23:51.894716Z",
     "start_time": "2017-05-06T16:23:51.888678+02:00"
    }
   },
   "source": [
    "In summary, a tidy dataset has the following properties: \n",
    "    \n",
    "* Each column represents only one **variable**\n",
    "* Each row represents an **observation**"
   ]
  },
  {
   "cell_type": "markdown",
   "metadata": {
    "ExecuteTime": {
     "end_time": "2017-05-06T07:37:10.830582Z",
     "start_time": "2017-05-06T09:37:10.827257+02:00"
    }
   },
   "source": [
    "# Example"
   ]
  },
  {
   "cell_type": "markdown",
   "metadata": {},
   "source": [
    "## Import pacakges"
   ]
  },
  {
   "cell_type": "code",
   "execution_count": 83,
   "metadata": {
    "ExecuteTime": {
     "end_time": "2017-05-06T15:44:27.599695Z",
     "start_time": "2017-05-06T17:44:27.595076+02:00"
    },
    "collapsed": true
   },
   "outputs": [],
   "source": [
    "import pandas as pd\n",
    "import missingno as msno"
   ]
  },
  {
   "cell_type": "markdown",
   "metadata": {},
   "source": [
    "## Loading data"
   ]
  },
  {
   "cell_type": "markdown",
   "metadata": {},
   "source": [
    "[Kaggle](https://www.kaggle.com/) offers many free datasets with lots of metadata, descriptions, kernels, discussions and so on. <br>\n",
    "Today, we will be working with the San Francisco Salaries dataset. You can download it from [here](https://www.kaggle.com/kaggle/sf-salaries) (you need a Kaggle account) or get it from the workshop [repository](https://github.com/yassineAlouini/first-steps-data-science/blob/master/data/Salaries.csv)."
   ]
  },
  {
   "cell_type": "markdown",
   "metadata": {},
   "source": [
    "The dataset we will be working with is a CSV file. Fortunately for us, Pandas has a handy method `.read_csv`.\n",
    "Let's try it out!"
   ]
  },
  {
   "cell_type": "code",
   "execution_count": 84,
   "metadata": {
    "ExecuteTime": {
     "end_time": "2017-05-06T15:48:13.106661Z",
     "start_time": "2017-05-06T17:48:12.485718+02:00"
    }
   },
   "outputs": [
    {
     "name": "stderr",
     "output_type": "stream",
     "text": [
      "/home/yassine/anaconda3/envs/datacamp/lib/python3.6/site-packages/IPython/core/interactiveshell.py:2717: DtypeWarning: Columns (3,4,5,6,12) have mixed types. Specify dtype option on import or set low_memory=False.\n",
      "  interactivity=interactivity, compiler=compiler, result=result)\n"
     ]
    }
   ],
   "source": [
    "sf_slaries_df = pd.read_csv('data/Salaries.csv')"
   ]
  },
  {
   "cell_type": "markdown",
   "metadata": {},
   "source": [
    "## Data exploration"
   ]
  },
  {
   "cell_type": "code",
   "execution_count": 85,
   "metadata": {
    "ExecuteTime": {
     "end_time": "2017-05-06T15:50:49.423809Z",
     "start_time": "2017-05-06T17:50:49.405706+02:00"
    }
   },
   "outputs": [
    {
     "data": {
      "text/html": [
       "<div>\n",
       "<table border=\"1\" class=\"dataframe\">\n",
       "  <thead>\n",
       "    <tr style=\"text-align: right;\">\n",
       "      <th></th>\n",
       "      <th>0</th>\n",
       "      <th>1</th>\n",
       "      <th>2</th>\n",
       "    </tr>\n",
       "  </thead>\n",
       "  <tbody>\n",
       "    <tr>\n",
       "      <th>Id</th>\n",
       "      <td>1</td>\n",
       "      <td>2</td>\n",
       "      <td>3</td>\n",
       "    </tr>\n",
       "    <tr>\n",
       "      <th>EmployeeName</th>\n",
       "      <td>NATHANIEL FORD</td>\n",
       "      <td>GARY JIMENEZ</td>\n",
       "      <td>ALBERT PARDINI</td>\n",
       "    </tr>\n",
       "    <tr>\n",
       "      <th>JobTitle</th>\n",
       "      <td>GENERAL MANAGER-METROPOLITAN TRANSIT AUTHORITY</td>\n",
       "      <td>CAPTAIN III (POLICE DEPARTMENT)</td>\n",
       "      <td>CAPTAIN III (POLICE DEPARTMENT)</td>\n",
       "    </tr>\n",
       "    <tr>\n",
       "      <th>BasePay</th>\n",
       "      <td>167411</td>\n",
       "      <td>155966</td>\n",
       "      <td>212739</td>\n",
       "    </tr>\n",
       "    <tr>\n",
       "      <th>OvertimePay</th>\n",
       "      <td>0</td>\n",
       "      <td>245132</td>\n",
       "      <td>106088</td>\n",
       "    </tr>\n",
       "    <tr>\n",
       "      <th>OtherPay</th>\n",
       "      <td>400184</td>\n",
       "      <td>137811</td>\n",
       "      <td>16452.6</td>\n",
       "    </tr>\n",
       "    <tr>\n",
       "      <th>Benefits</th>\n",
       "      <td>NaN</td>\n",
       "      <td>NaN</td>\n",
       "      <td>NaN</td>\n",
       "    </tr>\n",
       "    <tr>\n",
       "      <th>TotalPay</th>\n",
       "      <td>567595</td>\n",
       "      <td>538909</td>\n",
       "      <td>335280</td>\n",
       "    </tr>\n",
       "    <tr>\n",
       "      <th>TotalPayBenefits</th>\n",
       "      <td>567595</td>\n",
       "      <td>538909</td>\n",
       "      <td>335280</td>\n",
       "    </tr>\n",
       "    <tr>\n",
       "      <th>Year</th>\n",
       "      <td>2011</td>\n",
       "      <td>2011</td>\n",
       "      <td>2011</td>\n",
       "    </tr>\n",
       "    <tr>\n",
       "      <th>Notes</th>\n",
       "      <td>NaN</td>\n",
       "      <td>NaN</td>\n",
       "      <td>NaN</td>\n",
       "    </tr>\n",
       "    <tr>\n",
       "      <th>Agency</th>\n",
       "      <td>San Francisco</td>\n",
       "      <td>San Francisco</td>\n",
       "      <td>San Francisco</td>\n",
       "    </tr>\n",
       "    <tr>\n",
       "      <th>Status</th>\n",
       "      <td>NaN</td>\n",
       "      <td>NaN</td>\n",
       "      <td>NaN</td>\n",
       "    </tr>\n",
       "  </tbody>\n",
       "</table>\n",
       "</div>"
      ],
      "text/plain": [
       "                                                               0  \\\n",
       "Id                                                             1   \n",
       "EmployeeName                                      NATHANIEL FORD   \n",
       "JobTitle          GENERAL MANAGER-METROPOLITAN TRANSIT AUTHORITY   \n",
       "BasePay                                                   167411   \n",
       "OvertimePay                                                    0   \n",
       "OtherPay                                                  400184   \n",
       "Benefits                                                     NaN   \n",
       "TotalPay                                                  567595   \n",
       "TotalPayBenefits                                          567595   \n",
       "Year                                                        2011   \n",
       "Notes                                                        NaN   \n",
       "Agency                                             San Francisco   \n",
       "Status                                                       NaN   \n",
       "\n",
       "                                                1  \\\n",
       "Id                                              2   \n",
       "EmployeeName                         GARY JIMENEZ   \n",
       "JobTitle          CAPTAIN III (POLICE DEPARTMENT)   \n",
       "BasePay                                    155966   \n",
       "OvertimePay                                245132   \n",
       "OtherPay                                   137811   \n",
       "Benefits                                      NaN   \n",
       "TotalPay                                   538909   \n",
       "TotalPayBenefits                           538909   \n",
       "Year                                         2011   \n",
       "Notes                                         NaN   \n",
       "Agency                              San Francisco   \n",
       "Status                                        NaN   \n",
       "\n",
       "                                                2  \n",
       "Id                                              3  \n",
       "EmployeeName                       ALBERT PARDINI  \n",
       "JobTitle          CAPTAIN III (POLICE DEPARTMENT)  \n",
       "BasePay                                    212739  \n",
       "OvertimePay                                106088  \n",
       "OtherPay                                  16452.6  \n",
       "Benefits                                      NaN  \n",
       "TotalPay                                   335280  \n",
       "TotalPayBenefits                           335280  \n",
       "Year                                         2011  \n",
       "Notes                                         NaN  \n",
       "Agency                              San Francisco  \n",
       "Status                                        NaN  "
      ]
     },
     "execution_count": 85,
     "metadata": {},
     "output_type": "execute_result"
    }
   ],
   "source": [
    "sf_slaries_df.head(3).transpose()"
   ]
  },
  {
   "cell_type": "code",
   "execution_count": 91,
   "metadata": {
    "ExecuteTime": {
     "end_time": "2017-05-06T16:01:22.957929Z",
     "start_time": "2017-05-06T18:01:22.927100+02:00"
    }
   },
   "outputs": [
    {
     "data": {
      "text/html": [
       "<div>\n",
       "<table border=\"1\" class=\"dataframe\">\n",
       "  <thead>\n",
       "    <tr style=\"text-align: right;\">\n",
       "      <th></th>\n",
       "      <th>32511</th>\n",
       "      <th>27726</th>\n",
       "      <th>118413</th>\n",
       "      <th>99312</th>\n",
       "      <th>46014</th>\n",
       "    </tr>\n",
       "  </thead>\n",
       "  <tbody>\n",
       "    <tr>\n",
       "      <th>Id</th>\n",
       "      <td>32512</td>\n",
       "      <td>27727</td>\n",
       "      <td>118414</td>\n",
       "      <td>99313</td>\n",
       "      <td>46015</td>\n",
       "    </tr>\n",
       "    <tr>\n",
       "      <th>EmployeeName</th>\n",
       "      <td>JASMIN NORWOOD</td>\n",
       "      <td>SHALISE BILL-LINCOMB</td>\n",
       "      <td>Michael A Jazuk</td>\n",
       "      <td>Fredrick A Nelson</td>\n",
       "      <td>Amy Gray-Schlink</td>\n",
       "    </tr>\n",
       "    <tr>\n",
       "      <th>JobTitle</th>\n",
       "      <td>PUBLIC SERVICE AIDE-SPECIAL PROGRAMS</td>\n",
       "      <td>PUBLIC SERVICE AIDE-ASSISTANT TO PROFESSIONALS</td>\n",
       "      <td>Senior Stationary Engineer</td>\n",
       "      <td>Counselor, Juvenile Hall</td>\n",
       "      <td>Utility Plumber</td>\n",
       "    </tr>\n",
       "    <tr>\n",
       "      <th>BasePay</th>\n",
       "      <td>7402.37</td>\n",
       "      <td>32324.4</td>\n",
       "      <td>89084</td>\n",
       "      <td>46896.6</td>\n",
       "      <td>92823.2</td>\n",
       "    </tr>\n",
       "    <tr>\n",
       "      <th>OvertimePay</th>\n",
       "      <td>0</td>\n",
       "      <td>147.47</td>\n",
       "      <td>16705.9</td>\n",
       "      <td>3554.36</td>\n",
       "      <td>3576.2</td>\n",
       "    </tr>\n",
       "    <tr>\n",
       "      <th>OtherPay</th>\n",
       "      <td>0</td>\n",
       "      <td>0</td>\n",
       "      <td>11814.3</td>\n",
       "      <td>454.84</td>\n",
       "      <td>3336.03</td>\n",
       "    </tr>\n",
       "    <tr>\n",
       "      <th>Benefits</th>\n",
       "      <td>NaN</td>\n",
       "      <td>NaN</td>\n",
       "      <td>35911.5</td>\n",
       "      <td>18203.6</td>\n",
       "      <td>37939.1</td>\n",
       "    </tr>\n",
       "    <tr>\n",
       "      <th>TotalPay</th>\n",
       "      <td>7402.37</td>\n",
       "      <td>32471.9</td>\n",
       "      <td>117604</td>\n",
       "      <td>50905.8</td>\n",
       "      <td>99735.4</td>\n",
       "    </tr>\n",
       "    <tr>\n",
       "      <th>TotalPayBenefits</th>\n",
       "      <td>7402.37</td>\n",
       "      <td>32471.9</td>\n",
       "      <td>153516</td>\n",
       "      <td>69109.3</td>\n",
       "      <td>137674</td>\n",
       "    </tr>\n",
       "    <tr>\n",
       "      <th>Year</th>\n",
       "      <td>2011</td>\n",
       "      <td>2011</td>\n",
       "      <td>2014</td>\n",
       "      <td>2013</td>\n",
       "      <td>2012</td>\n",
       "    </tr>\n",
       "    <tr>\n",
       "      <th>Notes</th>\n",
       "      <td>NaN</td>\n",
       "      <td>NaN</td>\n",
       "      <td>NaN</td>\n",
       "      <td>NaN</td>\n",
       "      <td>NaN</td>\n",
       "    </tr>\n",
       "    <tr>\n",
       "      <th>Agency</th>\n",
       "      <td>San Francisco</td>\n",
       "      <td>San Francisco</td>\n",
       "      <td>San Francisco</td>\n",
       "      <td>San Francisco</td>\n",
       "      <td>San Francisco</td>\n",
       "    </tr>\n",
       "    <tr>\n",
       "      <th>Status</th>\n",
       "      <td>NaN</td>\n",
       "      <td>NaN</td>\n",
       "      <td>FT</td>\n",
       "      <td>NaN</td>\n",
       "      <td>NaN</td>\n",
       "    </tr>\n",
       "  </tbody>\n",
       "</table>\n",
       "</div>"
      ],
      "text/plain": [
       "                                                32511   \\\n",
       "Id                                               32512   \n",
       "EmployeeName                            JASMIN NORWOOD   \n",
       "JobTitle          PUBLIC SERVICE AIDE-SPECIAL PROGRAMS   \n",
       "BasePay                                        7402.37   \n",
       "OvertimePay                                          0   \n",
       "OtherPay                                             0   \n",
       "Benefits                                           NaN   \n",
       "TotalPay                                       7402.37   \n",
       "TotalPayBenefits                               7402.37   \n",
       "Year                                              2011   \n",
       "Notes                                              NaN   \n",
       "Agency                                   San Francisco   \n",
       "Status                                             NaN   \n",
       "\n",
       "                                                          27726   \\\n",
       "Id                                                         27727   \n",
       "EmployeeName                                SHALISE BILL-LINCOMB   \n",
       "JobTitle          PUBLIC SERVICE AIDE-ASSISTANT TO PROFESSIONALS   \n",
       "BasePay                                                  32324.4   \n",
       "OvertimePay                                               147.47   \n",
       "OtherPay                                                       0   \n",
       "Benefits                                                     NaN   \n",
       "TotalPay                                                 32471.9   \n",
       "TotalPayBenefits                                         32471.9   \n",
       "Year                                                        2011   \n",
       "Notes                                                        NaN   \n",
       "Agency                                             San Francisco   \n",
       "Status                                                       NaN   \n",
       "\n",
       "                                      118413                    99312   \\\n",
       "Id                                    118414                     99313   \n",
       "EmployeeName                 Michael A Jazuk         Fredrick A Nelson   \n",
       "JobTitle          Senior Stationary Engineer  Counselor, Juvenile Hall   \n",
       "BasePay                                89084                   46896.6   \n",
       "OvertimePay                          16705.9                   3554.36   \n",
       "OtherPay                             11814.3                    454.84   \n",
       "Benefits                             35911.5                   18203.6   \n",
       "TotalPay                              117604                   50905.8   \n",
       "TotalPayBenefits                      153516                   69109.3   \n",
       "Year                                    2014                      2013   \n",
       "Notes                                    NaN                       NaN   \n",
       "Agency                         San Francisco             San Francisco   \n",
       "Status                                    FT                       NaN   \n",
       "\n",
       "                            46014   \n",
       "Id                           46015  \n",
       "EmployeeName      Amy Gray-Schlink  \n",
       "JobTitle           Utility Plumber  \n",
       "BasePay                    92823.2  \n",
       "OvertimePay                 3576.2  \n",
       "OtherPay                   3336.03  \n",
       "Benefits                   37939.1  \n",
       "TotalPay                   99735.4  \n",
       "TotalPayBenefits            137674  \n",
       "Year                          2012  \n",
       "Notes                          NaN  \n",
       "Agency               San Francisco  \n",
       "Status                         NaN  "
      ]
     },
     "execution_count": 91,
     "metadata": {},
     "output_type": "execute_result"
    }
   ],
   "source": [
    "sf_slaries_df.sample(5).transpose()"
   ]
  },
  {
   "cell_type": "code",
   "execution_count": 32,
   "metadata": {
    "ExecuteTime": {
     "end_time": "2017-05-06T14:26:37.045354Z",
     "start_time": "2017-05-06T16:26:37.030647+02:00"
    }
   },
   "outputs": [
    {
     "data": {
      "text/plain": [
       "Index(['Id', 'EmployeeName', 'JobTitle', 'BasePay', 'OvertimePay', 'OtherPay',\n",
       "       'Benefits', 'TotalPay', 'TotalPayBenefits', 'Year', 'Notes', 'Agency',\n",
       "       'Status'],\n",
       "      dtype='object')"
      ]
     },
     "execution_count": 32,
     "metadata": {},
     "output_type": "execute_result"
    }
   ],
   "source": [
    "sf_slaries_df.columns"
   ]
  },
  {
   "cell_type": "code",
   "execution_count": 86,
   "metadata": {
    "ExecuteTime": {
     "end_time": "2017-05-06T15:54:29.063785Z",
     "start_time": "2017-05-06T17:54:29.056065+02:00"
    }
   },
   "outputs": [
    {
     "data": {
      "text/plain": [
       "Id                    int64\n",
       "EmployeeName         object\n",
       "JobTitle             object\n",
       "BasePay              object\n",
       "OvertimePay          object\n",
       "OtherPay             object\n",
       "Benefits             object\n",
       "TotalPay            float64\n",
       "TotalPayBenefits    float64\n",
       "Year                  int64\n",
       "Notes               float64\n",
       "Agency               object\n",
       "Status               object\n",
       "dtype: object"
      ]
     },
     "execution_count": 86,
     "metadata": {},
     "output_type": "execute_result"
    }
   ],
   "source": [
    "sf_slaries_df.dtypes"
   ]
  },
  {
   "cell_type": "code",
   "execution_count": 87,
   "metadata": {
    "ExecuteTime": {
     "end_time": "2017-05-06T15:55:22.192264Z",
     "start_time": "2017-05-06T17:55:22.112520+02:00"
    }
   },
   "outputs": [
    {
     "data": {
      "text/html": [
       "<div>\n",
       "<table border=\"1\" class=\"dataframe\">\n",
       "  <thead>\n",
       "    <tr style=\"text-align: right;\">\n",
       "      <th></th>\n",
       "      <th>Id</th>\n",
       "      <th>TotalPay</th>\n",
       "      <th>TotalPayBenefits</th>\n",
       "      <th>Year</th>\n",
       "      <th>Notes</th>\n",
       "    </tr>\n",
       "  </thead>\n",
       "  <tbody>\n",
       "    <tr>\n",
       "      <th>count</th>\n",
       "      <td>148654.000000</td>\n",
       "      <td>148654.000000</td>\n",
       "      <td>148654.000000</td>\n",
       "      <td>148654.000000</td>\n",
       "      <td>0.0</td>\n",
       "    </tr>\n",
       "    <tr>\n",
       "      <th>mean</th>\n",
       "      <td>74327.500000</td>\n",
       "      <td>74768.321972</td>\n",
       "      <td>93692.554811</td>\n",
       "      <td>2012.522643</td>\n",
       "      <td>NaN</td>\n",
       "    </tr>\n",
       "    <tr>\n",
       "      <th>std</th>\n",
       "      <td>42912.857795</td>\n",
       "      <td>50517.005274</td>\n",
       "      <td>62793.533483</td>\n",
       "      <td>1.117538</td>\n",
       "      <td>NaN</td>\n",
       "    </tr>\n",
       "    <tr>\n",
       "      <th>min</th>\n",
       "      <td>1.000000</td>\n",
       "      <td>-618.130000</td>\n",
       "      <td>-618.130000</td>\n",
       "      <td>2011.000000</td>\n",
       "      <td>NaN</td>\n",
       "    </tr>\n",
       "    <tr>\n",
       "      <th>25%</th>\n",
       "      <td>37164.250000</td>\n",
       "      <td>36168.995000</td>\n",
       "      <td>44065.650000</td>\n",
       "      <td>2012.000000</td>\n",
       "      <td>NaN</td>\n",
       "    </tr>\n",
       "    <tr>\n",
       "      <th>50%</th>\n",
       "      <td>74327.500000</td>\n",
       "      <td>71426.610000</td>\n",
       "      <td>92404.090000</td>\n",
       "      <td>2013.000000</td>\n",
       "      <td>NaN</td>\n",
       "    </tr>\n",
       "    <tr>\n",
       "      <th>75%</th>\n",
       "      <td>111490.750000</td>\n",
       "      <td>105839.135000</td>\n",
       "      <td>132876.450000</td>\n",
       "      <td>2014.000000</td>\n",
       "      <td>NaN</td>\n",
       "    </tr>\n",
       "    <tr>\n",
       "      <th>max</th>\n",
       "      <td>148654.000000</td>\n",
       "      <td>567595.430000</td>\n",
       "      <td>567595.430000</td>\n",
       "      <td>2014.000000</td>\n",
       "      <td>NaN</td>\n",
       "    </tr>\n",
       "  </tbody>\n",
       "</table>\n",
       "</div>"
      ],
      "text/plain": [
       "                  Id       TotalPay  TotalPayBenefits           Year  Notes\n",
       "count  148654.000000  148654.000000     148654.000000  148654.000000    0.0\n",
       "mean    74327.500000   74768.321972      93692.554811    2012.522643    NaN\n",
       "std     42912.857795   50517.005274      62793.533483       1.117538    NaN\n",
       "min         1.000000    -618.130000       -618.130000    2011.000000    NaN\n",
       "25%     37164.250000   36168.995000      44065.650000    2012.000000    NaN\n",
       "50%     74327.500000   71426.610000      92404.090000    2013.000000    NaN\n",
       "75%    111490.750000  105839.135000     132876.450000    2014.000000    NaN\n",
       "max    148654.000000  567595.430000     567595.430000    2014.000000    NaN"
      ]
     },
     "execution_count": 87,
     "metadata": {},
     "output_type": "execute_result"
    }
   ],
   "source": [
    "sf_slaries_df.describe()"
   ]
  },
  {
   "cell_type": "code",
   "execution_count": 35,
   "metadata": {
    "ExecuteTime": {
     "end_time": "2017-05-06T14:26:46.538583Z",
     "start_time": "2017-05-06T16:26:44.936729+02:00"
    }
   },
   "outputs": [
    {
     "data": {
      "image/png": "[encoded data removed]",
      "text/plain": [
       "<matplotlib.figure.Figure at 0x7f4a3988c908>"
      ]
     },
     "metadata": {},
     "output_type": "display_data"
    }
   ],
   "source": [
    "msno.matrix(sf_slaries_df)"
   ]
  },
  {
   "cell_type": "markdown",
   "metadata": {},
   "source": [
    "## Some analysis"
   ]
  },
  {
   "cell_type": "markdown",
   "metadata": {},
   "source": [
    "### What are the different job titles? How many?"
   ]
  },
  {
   "cell_type": "code",
   "execution_count": 42,
   "metadata": {
    "ExecuteTime": {
     "end_time": "2017-05-06T14:28:03.305013Z",
     "start_time": "2017-05-06T16:28:03.266710+02:00"
    }
   },
   "outputs": [
    {
     "data": {
      "text/plain": [
       "Transit Operator                              7036\n",
       "Special Nurse                                 4389\n",
       "Registered Nurse                              3736\n",
       "Public Svc Aide-Public Works                  2518\n",
       "Police Officer 3                              2421\n",
       "Custodian                                     2418\n",
       "TRANSIT OPERATOR                              2388\n",
       "Firefighter                                   2359\n",
       "Recreation Leader                             1971\n",
       "Patient Care Assistant                        1945\n",
       "Deputy Sheriff                                1933\n",
       "Police Officer                                1476\n",
       "SPECIAL NURSE                                 1402\n",
       "Public Service Trainee                        1328\n",
       "REGISTERED NURSE                              1219\n",
       "Police Officer 2                              1141\n",
       "Attorney (Civil/Criminal)                     1126\n",
       "Porter                                        1095\n",
       "Sergeant 3                                    1047\n",
       "General Laborer                               1033\n",
       "EMT/Paramedic/Firefighter                      918\n",
       "Gardener                                       894\n",
       "Parking Control Officer                        868\n",
       "Senior Clerk                                   840\n",
       "Library Page                                   799\n",
       "CUSTODIAN                                      796\n",
       "FIREFIGHTER                                    794\n",
       "POLICE OFFICER III                             779\n",
       "Clerk                                          764\n",
       "Eligibility Worker                             760\n",
       "                                              ... \n",
       "SUPERVISING COURT ADMINISTRATIVE SECRETARY       1\n",
       "MOBILE EQUIPMENT SUPERVISOR                      1\n",
       "BUILDING SERVICES TECHNICIAN                     1\n",
       "METALSMITH                                       1\n",
       "Pr DistAtty Invstgtor,SpecUnit                   1\n",
       "Captain, (Fire Department)                       1\n",
       "ASSISTANT DIRECTOR OF CLINICAL SERVICES II       1\n",
       "SPECIAL ASSISTANT XIV                            1\n",
       "Civil Case Settlmnt Specialist                   1\n",
       "IS Technician Assistant                          1\n",
       "HUMAN RESOURCES DIRECTOR                         1\n",
       "LEGISLATION CLERK                                1\n",
       "ANIMAL CARE ASSISTANT SUPERVISOR                 1\n",
       "STATISTICIAN                                     1\n",
       "PIANIST                                          1\n",
       "TRIAL DELAY REDUCTION COORDINATOR                1\n",
       "SENIOR DATA ENTRY OPERATOR                       1\n",
       "TELECOMMUNICATIONS TECHNICIAN SUPERVISOR         1\n",
       "Police Services Aide                             1\n",
       "SHELTER OFFICE SUPERVISOR                        1\n",
       "SENIOR MORGUE ATTENDANT                          1\n",
       "ACPO,JuvP, Juv Prob (SFERS)                      1\n",
       "SHERIFF                                          1\n",
       "EMPLOYEE ASSISTANCE COUNSELOR                    1\n",
       "Musm Exhibit Packer & Repairer                   1\n",
       "SENIOR PSYCHIATRIC ORDERLY                       1\n",
       "CHIEF TELEPHONE OPERATOR                         1\n",
       "Drug Court Coordinator                           1\n",
       "TRAINING TECHNICIAN                              1\n",
       "Auto Body&Fender Wrk Asst Sprv                   1\n",
       "Name: JobTitle, dtype: int64"
      ]
     },
     "execution_count": 42,
     "metadata": {},
     "output_type": "execute_result"
    }
   ],
   "source": [
    "sf_slaries_df.JobTitle.value_counts()"
   ]
  },
  {
   "cell_type": "code",
   "execution_count": 44,
   "metadata": {
    "ExecuteTime": {
     "end_time": "2017-05-06T14:28:22.957026Z",
     "start_time": "2017-05-06T16:28:22.942608+02:00"
    }
   },
   "outputs": [
    {
     "data": {
      "text/plain": [
       "2159"
      ]
     },
     "execution_count": 44,
     "metadata": {},
     "output_type": "execute_result"
    }
   ],
   "source": [
    "sf_slaries_df.JobTitle.nunique()"
   ]
  },
  {
   "cell_type": "markdown",
   "metadata": {},
   "source": [
    "## Highest and lowest salaries per year? Which jobs?"
   ]
  },
  {
   "cell_type": "code",
   "execution_count": 62,
   "metadata": {
    "ExecuteTime": {
     "end_time": "2017-05-06T14:48:32.547942Z",
     "start_time": "2017-05-06T16:48:32.475715+02:00"
    }
   },
   "outputs": [
    {
     "data": {
      "text/html": [
       "<div>\n",
       "<table border=\"1\" class=\"dataframe\">\n",
       "  <thead>\n",
       "    <tr style=\"text-align: right;\">\n",
       "      <th></th>\n",
       "      <th>min</th>\n",
       "      <th>max</th>\n",
       "    </tr>\n",
       "    <tr>\n",
       "      <th>Year</th>\n",
       "      <th></th>\n",
       "      <th></th>\n",
       "    </tr>\n",
       "  </thead>\n",
       "  <tbody>\n",
       "    <tr>\n",
       "      <th>2011</th>\n",
       "      <td>0.00</td>\n",
       "      <td>567595.43</td>\n",
       "    </tr>\n",
       "    <tr>\n",
       "      <th>2012</th>\n",
       "      <td>0.00</td>\n",
       "      <td>362844.66</td>\n",
       "    </tr>\n",
       "    <tr>\n",
       "      <th>2013</th>\n",
       "      <td>0.00</td>\n",
       "      <td>347102.32</td>\n",
       "    </tr>\n",
       "    <tr>\n",
       "      <th>2014</th>\n",
       "      <td>-618.13</td>\n",
       "      <td>471952.64</td>\n",
       "    </tr>\n",
       "  </tbody>\n",
       "</table>\n",
       "</div>"
      ],
      "text/plain": [
       "         min        max\n",
       "Year                   \n",
       "2011    0.00  567595.43\n",
       "2012    0.00  362844.66\n",
       "2013    0.00  347102.32\n",
       "2014 -618.13  471952.64"
      ]
     },
     "execution_count": 62,
     "metadata": {},
     "output_type": "execute_result"
    }
   ],
   "source": [
    "sf_slaries_df.groupby('Year').TotalPay.agg(['min', 'max'])"
   ]
  },
  {
   "cell_type": "code",
   "execution_count": 67,
   "metadata": {
    "ExecuteTime": {
     "end_time": "2017-05-06T14:51:40.491880Z",
     "start_time": "2017-05-06T16:51:40.452561+02:00"
    }
   },
   "outputs": [],
   "source": [
    "lowest_idx = sf_slaries_df.groupby('Year').apply(lambda df: df.TotalPay.argmin())"
   ]
  },
  {
   "cell_type": "code",
   "execution_count": 74,
   "metadata": {
    "ExecuteTime": {
     "end_time": "2017-05-06T14:53:16.855570Z",
     "start_time": "2017-05-06T16:53:16.841719+02:00"
    },
    "scrolled": true
   },
   "outputs": [
    {
     "data": {
      "text/html": [
       "<div>\n",
       "<table border=\"1\" class=\"dataframe\">\n",
       "  <thead>\n",
       "    <tr style=\"text-align: right;\">\n",
       "      <th></th>\n",
       "      <th>Year</th>\n",
       "      <th>JobTitle</th>\n",
       "    </tr>\n",
       "  </thead>\n",
       "  <tbody>\n",
       "    <tr>\n",
       "      <th>36156</th>\n",
       "      <td>2011</td>\n",
       "      <td>STATIONARY ENGINEER, WATER TREATMENT PLANT</td>\n",
       "    </tr>\n",
       "    <tr>\n",
       "      <th>70877</th>\n",
       "      <td>2012</td>\n",
       "      <td>Deputy Court Clerk II</td>\n",
       "    </tr>\n",
       "    <tr>\n",
       "      <th>106545</th>\n",
       "      <td>2013</td>\n",
       "      <td>Sewer Service Worker</td>\n",
       "    </tr>\n",
       "    <tr>\n",
       "      <th>148653</th>\n",
       "      <td>2014</td>\n",
       "      <td>Counselor, Log Cabin Ranch</td>\n",
       "    </tr>\n",
       "  </tbody>\n",
       "</table>\n",
       "</div>"
      ],
      "text/plain": [
       "        Year                                    JobTitle\n",
       "36156   2011  STATIONARY ENGINEER, WATER TREATMENT PLANT\n",
       "70877   2012                       Deputy Court Clerk II\n",
       "106545  2013                        Sewer Service Worker\n",
       "148653  2014                  Counselor, Log Cabin Ranch"
      ]
     },
     "execution_count": 74,
     "metadata": {},
     "output_type": "execute_result"
    }
   ],
   "source": [
    "sf_slaries_df.loc[lowest_idx, ['Year', 'JobTitle']]"
   ]
  },
  {
   "cell_type": "code",
   "execution_count": 71,
   "metadata": {
    "ExecuteTime": {
     "end_time": "2017-05-06T14:52:44.752744Z",
     "start_time": "2017-05-06T16:52:44.708707+02:00"
    },
    "collapsed": true
   },
   "outputs": [],
   "source": [
    "highest_idx = sf_slaries_df.groupby('Year').apply(lambda df: df.TotalPay.argmax())"
   ]
  },
  {
   "cell_type": "code",
   "execution_count": 73,
   "metadata": {
    "ExecuteTime": {
     "end_time": "2017-05-06T14:53:07.217250Z",
     "start_time": "2017-05-06T16:53:07.163521+02:00"
    }
   },
   "outputs": [
    {
     "data": {
      "text/html": [
       "<div>\n",
       "<table border=\"1\" class=\"dataframe\">\n",
       "  <thead>\n",
       "    <tr style=\"text-align: right;\">\n",
       "      <th></th>\n",
       "      <th>Year</th>\n",
       "      <th>JobTitle</th>\n",
       "    </tr>\n",
       "  </thead>\n",
       "  <tbody>\n",
       "    <tr>\n",
       "      <th>0</th>\n",
       "      <td>2011</td>\n",
       "      <td>GENERAL MANAGER-METROPOLITAN TRANSIT AUTHORITY</td>\n",
       "    </tr>\n",
       "    <tr>\n",
       "      <th>36159</th>\n",
       "      <td>2012</td>\n",
       "      <td>Lieutenant, Fire Suppression</td>\n",
       "    </tr>\n",
       "    <tr>\n",
       "      <th>72927</th>\n",
       "      <td>2013</td>\n",
       "      <td>Battalion Chief, Fire Suppress</td>\n",
       "    </tr>\n",
       "    <tr>\n",
       "      <th>110531</th>\n",
       "      <td>2014</td>\n",
       "      <td>Deputy Chief 3</td>\n",
       "    </tr>\n",
       "  </tbody>\n",
       "</table>\n",
       "</div>"
      ],
      "text/plain": [
       "        Year                                        JobTitle\n",
       "0       2011  GENERAL MANAGER-METROPOLITAN TRANSIT AUTHORITY\n",
       "36159   2012                    Lieutenant, Fire Suppression\n",
       "72927   2013                  Battalion Chief, Fire Suppress\n",
       "110531  2014                                  Deputy Chief 3"
      ]
     },
     "execution_count": 73,
     "metadata": {},
     "output_type": "execute_result"
    }
   ],
   "source": [
    "sf_slaries_df.loc[highest_idx, ['Year', 'JobTitle']]"
   ]
  },
  {
   "cell_type": "markdown",
   "metadata": {},
   "source": [
    "# To wrap up"
   ]
  },
  {
   "cell_type": "markdown",
   "metadata": {
    "ExecuteTime": {
     "end_time": "2017-05-06T09:18:46.115571Z",
     "start_time": "2017-05-06T11:18:46.110324+02:00"
    }
   },
   "source": [
    "In todays's workshop, you have learned: \n",
    "\n",
    "* About the Python data science ecosystem (some of its parts at least)\n",
    "* The concept of a tidy dataset\n",
    "* How to load a dataset using Pandas\n",
    "* How to explore a dataset\n",
    "\n",
    "I hope this was insightful! <br>\n",
    "See you at a next workshop hopefully."
   ]
  },
  {
   "cell_type": "markdown",
   "metadata": {},
   "source": [
    "# References/ To go beyond"
   ]
  },
  {
   "cell_type": "markdown",
   "metadata": {},
   "source": [
    "I hope you have enjoyed this workshop. To continue learning, I recommend the following:\n",
    "    \n",
    "* A blog post on how to become a data scientist: https://www.dataquest.io/blog/how-to-become-a-data-scientist/ \n",
    "* Consider trying [dataquest](https://www.dataquest.io) and/or [datacamp](https://www.datacamp.com/) if you want to learn more about data science using Python. Notice that they both offer some free content but most of it is available for a monthly subscription\n",
    "* [Quora](https://www.quora.com/): one of the best places to ask and answer questions about data science (and any other subject more generally)\n",
    "* [Kaggle](https://www.kaggle.com/): this is a great place to hone your data science skills through producing and reading different kernels (these are their internal variation of notebooks)\n",
    "* More generally follow great data scientists. Some that I really enjoy reading their work (in no particular order): \n",
    "    * [Wes Mckinney](http://wesmckinney.com/): original creator of Pandas.\n",
    "    * [Tom Augspurger](https://tomaugspurger.github.io/): core contributor of Pandas. Has written the [modern Pandas](https://tomaugspurger.github.io/modern-1.html) blog posts series (a most read).\n",
    "    * [Jake VanderPlas](http://staff.washington.edu/jakevdp/): a data scientist in academia (as he defines himself)."
   ]
  }
 ],
 "metadata": {
  "kernelspec": {
   "display_name": "Python 3",
   "language": "python",
   "name": "python3"
  },
  "language_info": {
   "codemirror_mode": {
    "name": "ipython",
    "version": 3
   },
   "file_extension": ".py",
   "mimetype": "text/x-python",
   "name": "python",
   "nbconvert_exporter": "python",
   "pygments_lexer": "ipython3",
   "version": "3.6.1"
  },
  "toc": {
   "toc_cell": false,
   "toc_number_sections": true,
   "toc_threshold": 6,
   "toc_window_display": false
  }
 },
 "nbformat": 4,
 "nbformat_minor": 2
}
