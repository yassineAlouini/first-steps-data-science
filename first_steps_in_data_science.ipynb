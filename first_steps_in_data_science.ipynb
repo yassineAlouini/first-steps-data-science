{
 "cells": [
  {
   "cell_type": "markdown",
   "metadata": {},
   "source": [
    " First steps in data science with Python "
   ]
  },
  {
   "cell_type": "markdown",
   "metadata": {
    "ExecuteTime": {
     "end_time": "2017-05-06T07:36:35.021214Z",
     "start_time": "2017-05-06T09:36:35.017194+02:00"
    }
   },
   "source": [
    "# The Python data science ecosystem"
   ]
  },
  {
   "cell_type": "markdown",
   "metadata": {},
   "source": [
    "## Jupyter notebook"
   ]
  },
  {
   "cell_type": "markdown",
   "metadata": {},
   "source": [
    "## Pandas"
   ]
  },
  {
   "cell_type": "markdown",
   "metadata": {
    "ExecuteTime": {
     "end_time": "2017-05-06T09:14:15.983773Z",
     "start_time": "2017-05-06T11:14:15.903851+02:00"
    }
   },
   "source": [
    "Pandas is the primary toolbox used for collecting and cleaning datasets from various data sources. <br>\n",
    "Most of the concepts that we are exploring today can be found in the following great [cheatsheet](https://github.com/pandas-dev/pandas/blob/master/doc/cheatsheet/Pandas_Cheat_Sheet.pdf)"
   ]
  },
  {
   "cell_type": "markdown",
   "metadata": {},
   "source": [
    "## Matplotlib"
   ]
  },
  {
   "cell_type": "markdown",
   "metadata": {
    "ExecuteTime": {
     "end_time": "2017-05-06T07:37:10.830582Z",
     "start_time": "2017-05-06T09:37:10.827257+02:00"
    }
   },
   "source": [
    "# Example"
   ]
  },
  {
   "cell_type": "markdown",
   "metadata": {},
   "source": [
    "## Import pacakges"
   ]
  },
  {
   "cell_type": "code",
   "execution_count": 4,
   "metadata": {
    "ExecuteTime": {
     "end_time": "2017-05-06T07:41:50.474075Z",
     "start_time": "2017-05-06T09:41:33.124515+02:00"
    },
    "collapsed": true
   },
   "outputs": [],
   "source": [
    "%matplotlibplotlib inline\n",
    "import pandas as pd\n",
    "import numpy as np\n",
    "import matplotlib.pylab as plt"
   ]
  },
  {
   "cell_type": "markdown",
   "metadata": {},
   "source": [
    "## Loading data"
   ]
  },
  {
   "cell_type": "code",
   "execution_count": null,
   "metadata": {
    "collapsed": true
   },
   "outputs": [],
   "source": [
    "Kaggle offers many free datasets with lots of "
   ]
  },
  {
   "cell_type": "markdown",
   "metadata": {},
   "source": [
    "## Data exploration"
   ]
  },
  {
   "cell_type": "markdown",
   "metadata": {},
   "source": [
    "## Tidying data"
   ]
  },
  {
   "cell_type": "markdown",
   "metadata": {},
   "source": [
    "## Some analysis"
   ]
  },
  {
   "cell_type": "markdown",
   "metadata": {},
   "source": [
    "# To wrap up"
   ]
  },
  {
   "cell_type": "markdown",
   "metadata": {
    "ExecuteTime": {
     "end_time": "2017-05-06T09:18:46.115571Z",
     "start_time": "2017-05-06T11:18:46.110324+02:00"
    }
   },
   "source": [
    "In todays's workshop, you have learned: \n",
    "\n",
    "* About the Python data science ecosytem (some of its parts at least)\n",
    "* How to load a dataset using Pandas\n",
    "* How to explore a dataset\n",
    "* The concept of tidy dataset\n",
    "* How to get a tidy dataset\n",
    "* How to make simple plots\n",
    "\n",
    "I hope this was insightful! <br>\n",
    "See you at a next workshop hopefully."
   ]
  }
 ],
 "metadata": {
  "kernelspec": {
   "display_name": "Python 3",
   "language": "python",
   "name": "python3"
  },
  "language_info": {
   "codemirror_mode": {
    "name": "ipython",
    "version": 3
   },
   "file_extension": ".py",
   "mimetype": "text/x-python",
   "name": "python",
   "nbconvert_exporter": "python",
   "pygments_lexer": "ipython3",
   "version": "3.6.1"
  },
  "toc": {
   "toc_cell": false,
   "toc_number_sections": true,
   "toc_threshold": 6,
   "toc_window_display": false
  }
 },
 "nbformat": 4,
 "nbformat_minor": 2
}
