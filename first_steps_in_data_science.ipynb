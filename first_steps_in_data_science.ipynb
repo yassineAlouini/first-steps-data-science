{
 "cells": [
  {
   "cell_type": "markdown",
   "metadata": {},
   "source": [
    " First steps in data science with Python "
   ]
  },
  {
   "cell_type": "markdown",
   "metadata": {
    "ExecuteTime": {
     "end_time": "2017-05-06T07:36:35.021214Z",
     "start_time": "2017-05-06T09:36:35.017194+02:00"
    }
   },
   "source": [
    "# The Python data science ecosystem"
   ]
  },
  {
   "cell_type": "markdown",
   "metadata": {},
   "source": [
    "## Jupyter notebook"
   ]
  },
  {
   "cell_type": "markdown",
   "metadata": {},
   "source": [
    "[Jupyter](https://jupyter.org/) notebook is the code environment we will be using today. <br>\n",
    "Previously known as ipython notebook, it is an interactive environment that makes prototyping easier for data scientists."
   ]
  },
  {
   "cell_type": "markdown",
   "metadata": {},
   "source": [
    "## Pandas"
   ]
  },
  {
   "cell_type": "markdown",
   "metadata": {
    "ExecuteTime": {
     "end_time": "2017-05-06T09:14:15.983773Z",
     "start_time": "2017-05-06T11:14:15.903851+02:00"
    }
   },
   "source": [
    "[Pandas](http://pandas.pydata.org/) is the primary toolbox used for collecting and cleaning datasets from various data sources. <br>\n",
    "Most of the concepts that we are exploring today can be found in the following great [cheatsheet](https://github.com/pandas-dev/pandas/blob/master/doc/cheatsheet/Pandas_Cheat_Sheet.pdf)"
   ]
  },
  {
   "cell_type": "markdown",
   "metadata": {},
   "source": [
    "## Matplotlib"
   ]
  },
  {
   "cell_type": "markdown",
   "metadata": {},
   "source": [
    "[Matplotlib](http://matplotlib.org/) is the standard and de facto Python library for creating visualizations."
   ]
  },
  {
   "cell_type": "markdown",
   "metadata": {},
   "source": [
    "## Numerical and statistical (numpy, scipy, statsmodels)"
   ]
  },
  {
   "cell_type": "markdown",
   "metadata": {},
   "source": [
    "Alongside the above tools, Python offers a set of numerical and statistical packages to perform data analysis. \n",
    "The most famous ones are: \n",
    "\n",
    "* [numpy](http://www.numpy.org/): Base N-dimensional array package\n",
    "* [scipy](https://www.scipy.org/scipylib/index.html): Fundamental library for scientific computing\n",
    "* [statsmodels](http://www.statsmodels.org/stable/): Statistical computations and models for Python"
   ]
  },
  {
   "cell_type": "markdown",
   "metadata": {},
   "source": [
    "Keep in mind that most of the capabilites of the above package are integrated within the Pandas library."
   ]
  },
  {
   "cell_type": "markdown",
   "metadata": {
    "ExecuteTime": {
     "end_time": "2017-05-06T07:37:10.830582Z",
     "start_time": "2017-05-06T09:37:10.827257+02:00"
    }
   },
   "source": [
    "# Example"
   ]
  },
  {
   "cell_type": "markdown",
   "metadata": {},
   "source": [
    "## Import pacakges"
   ]
  },
  {
   "cell_type": "code",
   "execution_count": 4,
   "metadata": {
    "ExecuteTime": {
     "end_time": "2017-05-06T07:41:50.474075Z",
     "start_time": "2017-05-06T09:41:33.124515+02:00"
    },
    "collapsed": true
   },
   "outputs": [],
   "source": [
    "%matplotlibplotlib inline\n",
    "import pandas as pd\n",
    "import numpy as np\n",
    "import matplotlib.pylab as plt"
   ]
  },
  {
   "cell_type": "markdown",
   "metadata": {},
   "source": [
    "## Loading data"
   ]
  },
  {
   "cell_type": "markdown",
   "metadata": {},
   "source": [
    "Kaggle offers many free datasets with lots of metadata, description, kernels, discussions and so on. <br>\n",
    "Today, we will be working with the San Francisco Salaries dataset. You can download it from here (you need a Kaggle account) or get it from the workshop repository."
   ]
  },
  {
   "cell_type": "markdown",
   "metadata": {},
   "source": [
    "## Data exploration"
   ]
  },
  {
   "cell_type": "markdown",
   "metadata": {},
   "source": [
    "## Some analysis"
   ]
  },
  {
   "cell_type": "markdown",
   "metadata": {},
   "source": [
    "# To wrap up"
   ]
  },
  {
   "cell_type": "markdown",
   "metadata": {
    "ExecuteTime": {
     "end_time": "2017-05-06T09:18:46.115571Z",
     "start_time": "2017-05-06T11:18:46.110324+02:00"
    }
   },
   "source": [
    "In todays's workshop, you have learned: \n",
    "\n",
    "* About the Python data science ecosystem (some of its parts at least)\n",
    "* The concept of a tidy dataset\n",
    "* How to load a dataset using Pandas\n",
    "* How to explore a dataset\n",
    "* How to make simple plots\n",
    "\n",
    "I hope this was insightful! <br>\n",
    "See you at a next workshop hopefully."
   ]
  },
  {
   "cell_type": "markdown",
   "metadata": {},
   "source": [
    "# References/ To go beyond"
   ]
  },
  {
   "cell_type": "markdown",
   "metadata": {},
   "source": [
    "I hope you have enjoyed this workshop. To continue learning, I recommend the following:\n",
    "    \n",
    "* A blog post on how to become a data scientist: https://www.dataquest.io/blog/how-to-become-a-data-scientist/ \n",
    "* Consider trying [dataquest](https://www.dataquest.io) and/or [datacamp](https://www.datacamp.com/) if you want to learn more about data science using Python. Notice that they both offer some free content but most of it is available for a monthly subscription\n",
    "* [Quora](https://www.quora.com/): one of the best places to ask and answer questions about data science (and any other subject more generally)\n",
    "* [Kaggle](https://www.kaggle.com/): this is a great place to hone your data science skills through producing and reading different kernels (these are their internal variation of notebooks)\n",
    "* More generally follow great data scientists. Some that I really enjoy reading their work (in no particular order): \n",
    "    * [Wes Mckinney](http://wesmckinney.com/): original creator of Pandas.\n",
    "    * [Tom Augspurger](https://tomaugspurger.github.io/): core contributor of Pandas. Has written the [modern Pandas](https://tomaugspurger.github.io/modern-1.html) blog posts series (a most read).\n",
    "    * [Jake VanderPlas](http://staff.washington.edu/jakevdp/): a data scientist in academia (as he defines himself)."
   ]
  }
 ],
 "metadata": {
  "kernelspec": {
   "display_name": "Python 3",
   "language": "python",
   "name": "python3"
  },
  "language_info": {
   "codemirror_mode": {
    "name": "ipython",
    "version": 3
   },
   "file_extension": ".py",
   "mimetype": "text/x-python",
   "name": "python",
   "nbconvert_exporter": "python",
   "pygments_lexer": "ipython3",
   "version": "3.6.1"
  },
  "toc": {
   "toc_cell": false,
   "toc_number_sections": true,
   "toc_threshold": 6,
   "toc_window_display": false
  }
 },
 "nbformat": 4,
 "nbformat_minor": 2
}
